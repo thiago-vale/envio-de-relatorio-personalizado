{
 "cells": [
  {
   "cell_type": "code",
   "execution_count": 1,
   "metadata": {},
   "outputs": [],
   "source": [
    "import smtplib\n",
    "import email.message\n",
    "import pandas as pd\n",
    "from premailer import transform\n",
    "import json"
   ]
  },
  {
   "cell_type": "code",
   "execution_count": null,
   "metadata": {},
   "outputs": [],
   "source": []
  },
  {
   "cell_type": "code",
   "execution_count": 13,
   "metadata": {},
   "outputs": [],
   "source": [
    "def send_mail(relatorio, destinatario, user, password):\n",
    "    corpo_email = f\"\"\"\n",
    "                    <title> Relatorio de Restaurantes </title>\n",
    "\n",
    "                    <h1> Melhores Restaurantes </h1>\n",
    "                    {relatorio}\n",
    "                    \"\"\"\n",
    "    \n",
    "    msg = email.message.Message()\n",
    "    msg['subject'] = 'Relatorio de Restaurantes'\n",
    "    msg['from'] = user\n",
    "    msg['To'] = destinatario\n",
    "    password = password\n",
    "    msg.add_header('Content-Type', 'text/html')\n",
    "    msg.set_payload(corpo_email)\n",
    "\n",
    "    s = smtplib.SMTP('smtp.gmail.com: 587')\n",
    "    s.starttls()\n",
    "\n",
    "    s.login(msg['From'], password)\n",
    "    s.sendmail(msg['from'],msg['To'], msg.as_string().encode('utf-8'))\n",
    "    print('Email enviado')\n",
    "\n",
    "def rename_columns(dataframe):\n",
    "        df = dataframe.copy()\n",
    "        \n",
    "        def snakecase(x):\n",
    "            return x.replace(\" \", \"_\").lower()\n",
    "\n",
    "        cols_old = list(df.columns)\n",
    "\n",
    "        cols_new = list(map(snakecase, cols_old))\n",
    "        cols_old = list(map(str.strip, cols_old))  # Removendo espaços extras\n",
    "\n",
    "        \n",
    "        # Renomeando as colunas no dataframe\n",
    "        df.columns = cols_new\n",
    "        \n",
    "        return df\n",
    "\n",
    "def text_color(col):\n",
    "    # Crie uma lista vazia para armazenar os estilos\n",
    "    styles = [''] * len(col)\n",
    "    \n",
    "    # Aplique as regras de estilo conforme necessário\n",
    "    for i, value in enumerate(col):\n",
    "        styles[i] = 'color: black'  # Define a cor do texto como preto\n",
    "    \n",
    "    return styles\n",
    "\n",
    "\n",
    "def background_color1(col):\n",
    "    # Crie uma lista vazia para armazenar os estilos\n",
    "    styles = ['background-color: #DCDCDC'] * len(col)  # Background em tom pastel\n",
    "    \n",
    "    return styles\n",
    "\n",
    "def background_color2(col):\n",
    "    # Crie uma lista vazia para armazenar os estilos\n",
    "    styles = ['background-color: #F0E68C'] * len(col)  # Background em tom pastel\n",
    "    \n",
    "    return styles\n",
    "\n",
    "def background_color3(col):\n",
    "    # Crie uma lista vazia para armazenar os estilos\n",
    "    styles = ['background-color: #B0C4DE'] * len(col)  # Background em tom pastel\n",
    "    \n",
    "    return styles\n",
    "\n",
    "def background_color4(col):\n",
    "    # Crie uma lista vazia para armazenar os estilos\n",
    "    styles = ['background-color: #8FBC8F'] * len(col)  # Background em tom pastel\n",
    "    \n",
    "    return styles\n",
    "\n",
    "def style_by_cost(custo, avg_cost):\n",
    "    if avg_cost > 1500:\n",
    "        return 'color: red'\n",
    "    elif 700 <= avg_cost <= 1499:\n",
    "        return 'color: yellow'\n",
    "    else:\n",
    "        return 'color: green'\n",
    "    \n",
    "def background_index1(col):\n",
    "    styles = []\n",
    "    for col_name in col:\n",
    "        if col_name in ['restaurant_id', 'restaurant_name']:\n",
    "            styles.append('background-color: #DCDCDC')\n",
    "        elif col_name in ['country_code', 'city', 'cuisines']:\n",
    "            styles.append('background-color: #F0E68C')   \n",
    "        elif col_name in ['aggregate_rating', 'votes']:\n",
    "            styles.append('background-color: #B0C4DE')  \n",
    "        elif col_name in ['average_cost_for_two', 'custo']:\n",
    "            styles.append('background-color: #8FBC8F')          \n",
    "        else:\n",
    "            styles.append('')\n",
    "    return styles\n"
   ]
  },
  {
   "cell_type": "code",
   "execution_count": 3,
   "metadata": {},
   "outputs": [],
   "source": [
    "with open('/home/thiago-vale/Documentos/GitHub/senha.json') as f:\n",
    "    user = json.load(f)"
   ]
  },
  {
   "cell_type": "code",
   "execution_count": 4,
   "metadata": {},
   "outputs": [
    {
     "data": {
      "text/plain": [
       "Index(['restaurant_id', 'restaurant_name', 'country_code', 'city', 'address',\n",
       "       'locality', 'locality_verbose', 'longitude', 'latitude', 'cuisines',\n",
       "       'average_cost_for_two', 'currency', 'has_table_booking',\n",
       "       'has_online_delivery', 'is_delivering_now', 'switch_to_order_menu',\n",
       "       'price_range', 'aggregate_rating', 'rating_color', 'rating_text',\n",
       "       'votes'],\n",
       "      dtype='object')"
      ]
     },
     "execution_count": 4,
     "metadata": {},
     "output_type": "execute_result"
    }
   ],
   "source": [
    "df = pd.read_csv('../data/zomato.csv')\n",
    "df = rename_columns(df)\n",
    "df.columns"
   ]
  },
  {
   "cell_type": "code",
   "execution_count": 5,
   "metadata": {},
   "outputs": [],
   "source": [
    "dados = df.loc[:,['restaurant_id','restaurant_name','country_code','city','cuisines','average_cost_for_two', 'aggregate_rating','votes']]\\\n",
    "                        .sort_values('aggregate_rating',ascending=False)"
   ]
  },
  {
   "cell_type": "code",
   "execution_count": 6,
   "metadata": {},
   "outputs": [],
   "source": [
    "relatorio = dados.head(10)"
   ]
  },
  {
   "cell_type": "code",
   "execution_count": 7,
   "metadata": {},
   "outputs": [
    {
     "name": "stderr",
     "output_type": "stream",
     "text": [
      "/tmp/ipykernel_1340173/2144721183.py:1: SettingWithCopyWarning: \n",
      "A value is trying to be set on a copy of a slice from a DataFrame.\n",
      "Try using .loc[row_indexer,col_indexer] = value instead\n",
      "\n",
      "See the caveats in the documentation: https://pandas.pydata.org/pandas-docs/stable/user_guide/indexing.html#returning-a-view-versus-a-copy\n",
      "  relatorio['custo'] = '$'\n"
     ]
    }
   ],
   "source": [
    "relatorio['custo'] = '$'"
   ]
  },
  {
   "cell_type": "code",
   "execution_count": 8,
   "metadata": {},
   "outputs": [],
   "source": [
    "relatorio = relatorio[['restaurant_id',\n",
    "                        'restaurant_name',\n",
    "                        'country_code', \n",
    "                        'city', 'cuisines',\n",
    "                        'aggregate_rating', \n",
    "                        'votes',\n",
    "                        'average_cost_for_two', \n",
    "                        'custo']]"
   ]
  },
  {
   "cell_type": "code",
   "execution_count": 14,
   "metadata": {},
   "outputs": [
    {
     "name": "stderr",
     "output_type": "stream",
     "text": [
      "/tmp/ipykernel_1340173/2640549622.py:11: FutureWarning: this method is deprecated in favour of `Styler.hide(axis='index')`\n",
      "  .hide_index()\n",
      "/tmp/ipykernel_1340173/2640549622.py:13: FutureWarning: this method is deprecated in favour of `Styler.to_html()`\n",
      "  html_table = styled_df.render()\n"
     ]
    }
   ],
   "source": [
    "# Aplicar o estilo ao DataFrame\n",
    "styled_df = relatorio.style \\\n",
    "    .apply(background_color1, subset=pd.IndexSlice[:, ['restaurant_id', 'restaurant_name']]) \\\n",
    "    .apply(background_color2, subset=pd.IndexSlice[:, ['country_code', 'city', 'cuisines']]) \\\n",
    "    .apply(background_color3, subset=pd.IndexSlice[:, ['aggregate_rating', 'votes']]) \\\n",
    "    .apply(background_color4, subset=pd.IndexSlice[:, ['average_cost_for_two', 'custo']]) \\\n",
    "    .apply(lambda col: col.apply(lambda x: style_by_cost(x, col['average_cost_for_two'])), subset=['custo', 'average_cost_for_two'], axis=1) \\\n",
    "    .apply(text_color, subset=pd.IndexSlice[:, ['restaurant_id', 'restaurant_name', 'country_code', 'city', 'cuisines', 'average_cost_for_two', 'aggregate_rating', 'votes']]) \\\n",
    "    .apply_index(background_index1, axis='columns')\\\n",
    "    .apply_index(text_color, axis='columns')\\\n",
    "    .hide_index()\n",
    "\n",
    "html_table = styled_df.render()\n",
    "html_with_css = transform(html_table)\n"
   ]
  },
  {
   "cell_type": "code",
   "execution_count": 10,
   "metadata": {},
   "outputs": [
    {
     "name": "stdout",
     "output_type": "stream",
     "text": [
      "Email enviado\n"
     ]
    }
   ],
   "source": [
    "send_mail(html_with_css, 'consultoria.thiagovale@gmail.com', user['email'], user['senha'])"
   ]
  }
 ],
 "metadata": {
  "kernelspec": {
   "display_name": "Python 3",
   "language": "python",
   "name": "python3"
  },
  "language_info": {
   "codemirror_mode": {
    "name": "ipython",
    "version": 3
   },
   "file_extension": ".py",
   "mimetype": "text/x-python",
   "name": "python",
   "nbconvert_exporter": "python",
   "pygments_lexer": "ipython3",
   "version": "3.10.12"
  }
 },
 "nbformat": 4,
 "nbformat_minor": 2
}
